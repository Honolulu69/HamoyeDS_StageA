{
 "cells": [
  {
   "cell_type": "code",
   "execution_count": 1,
   "id": "5fcaf417-0b16-491c-a7ee-46714f2581f4",
   "metadata": {},
   "outputs": [],
   "source": [
    "#Importing Libraries\n",
    "import numpy as np\n",
    "import pandas as pd"
   ]
  },
  {
   "cell_type": "code",
   "execution_count": 2,
   "id": "171f6cf0-1345-4a23-a436-4780dfa37f47",
   "metadata": {},
   "outputs": [],
   "source": [
    "data = pd.read_csv('FoodBalanceSheets_E_Africa_NOFLAG.csv', encoding = \"latin-1\")"
   ]
  },
  {
   "cell_type": "code",
   "execution_count": 3,
   "id": "5cabc540-7a7f-4418-97b8-f004bd4085da",
   "metadata": {},
   "outputs": [
    {
     "data": {
      "text/plain": [
       "(60943, 12)"
      ]
     },
     "execution_count": 3,
     "metadata": {},
     "output_type": "execute_result"
    }
   ],
   "source": [
    "data.shape"
   ]
  },
  {
   "cell_type": "code",
   "execution_count": 4,
   "id": "55130699-f674-4a3a-90ff-b0dcbdb3dd1a",
   "metadata": {},
   "outputs": [
    {
     "data": {
      "text/html": [
       "<div>\n",
       "<style scoped>\n",
       "    .dataframe tbody tr th:only-of-type {\n",
       "        vertical-align: middle;\n",
       "    }\n",
       "\n",
       "    .dataframe tbody tr th {\n",
       "        vertical-align: top;\n",
       "    }\n",
       "\n",
       "    .dataframe thead th {\n",
       "        text-align: right;\n",
       "    }\n",
       "</style>\n",
       "<table border=\"1\" class=\"dataframe\">\n",
       "  <thead>\n",
       "    <tr style=\"text-align: right;\">\n",
       "      <th></th>\n",
       "      <th>Area Code</th>\n",
       "      <th>Item Code</th>\n",
       "      <th>Element Code</th>\n",
       "      <th>Y2014</th>\n",
       "      <th>Y2015</th>\n",
       "      <th>Y2016</th>\n",
       "      <th>Y2017</th>\n",
       "      <th>Y2018</th>\n",
       "    </tr>\n",
       "  </thead>\n",
       "  <tbody>\n",
       "    <tr>\n",
       "      <th>count</th>\n",
       "      <td>60943.000000</td>\n",
       "      <td>60943.000000</td>\n",
       "      <td>60943.000000</td>\n",
       "      <td>59354.000000</td>\n",
       "      <td>59395.000000</td>\n",
       "      <td>59408.000000</td>\n",
       "      <td>59437.000000</td>\n",
       "      <td>59507.000000</td>\n",
       "    </tr>\n",
       "    <tr>\n",
       "      <th>mean</th>\n",
       "      <td>134.265576</td>\n",
       "      <td>2687.176706</td>\n",
       "      <td>3814.856456</td>\n",
       "      <td>134.196282</td>\n",
       "      <td>135.235966</td>\n",
       "      <td>136.555222</td>\n",
       "      <td>140.917765</td>\n",
       "      <td>143.758381</td>\n",
       "    </tr>\n",
       "    <tr>\n",
       "      <th>std</th>\n",
       "      <td>72.605709</td>\n",
       "      <td>146.055739</td>\n",
       "      <td>2212.007033</td>\n",
       "      <td>1567.663696</td>\n",
       "      <td>1603.403984</td>\n",
       "      <td>1640.007194</td>\n",
       "      <td>1671.862359</td>\n",
       "      <td>1710.782658</td>\n",
       "    </tr>\n",
       "    <tr>\n",
       "      <th>min</th>\n",
       "      <td>4.000000</td>\n",
       "      <td>2501.000000</td>\n",
       "      <td>511.000000</td>\n",
       "      <td>-1796.000000</td>\n",
       "      <td>-3161.000000</td>\n",
       "      <td>-3225.000000</td>\n",
       "      <td>-1582.000000</td>\n",
       "      <td>-3396.000000</td>\n",
       "    </tr>\n",
       "    <tr>\n",
       "      <th>25%</th>\n",
       "      <td>74.000000</td>\n",
       "      <td>2562.000000</td>\n",
       "      <td>684.000000</td>\n",
       "      <td>0.000000</td>\n",
       "      <td>0.000000</td>\n",
       "      <td>0.000000</td>\n",
       "      <td>0.000000</td>\n",
       "      <td>0.000000</td>\n",
       "    </tr>\n",
       "    <tr>\n",
       "      <th>50%</th>\n",
       "      <td>136.000000</td>\n",
       "      <td>2630.000000</td>\n",
       "      <td>5142.000000</td>\n",
       "      <td>0.090000</td>\n",
       "      <td>0.080000</td>\n",
       "      <td>0.080000</td>\n",
       "      <td>0.100000</td>\n",
       "      <td>0.070000</td>\n",
       "    </tr>\n",
       "    <tr>\n",
       "      <th>75%</th>\n",
       "      <td>195.000000</td>\n",
       "      <td>2775.000000</td>\n",
       "      <td>5511.000000</td>\n",
       "      <td>8.340000</td>\n",
       "      <td>8.460000</td>\n",
       "      <td>8.430000</td>\n",
       "      <td>9.000000</td>\n",
       "      <td>9.000000</td>\n",
       "    </tr>\n",
       "    <tr>\n",
       "      <th>max</th>\n",
       "      <td>276.000000</td>\n",
       "      <td>2961.000000</td>\n",
       "      <td>5911.000000</td>\n",
       "      <td>176405.000000</td>\n",
       "      <td>181137.000000</td>\n",
       "      <td>185960.000000</td>\n",
       "      <td>190873.000000</td>\n",
       "      <td>195875.000000</td>\n",
       "    </tr>\n",
       "  </tbody>\n",
       "</table>\n",
       "</div>"
      ],
      "text/plain": [
       "          Area Code     Item Code  Element Code          Y2014          Y2015  \\\n",
       "count  60943.000000  60943.000000  60943.000000   59354.000000   59395.000000   \n",
       "mean     134.265576   2687.176706   3814.856456     134.196282     135.235966   \n",
       "std       72.605709    146.055739   2212.007033    1567.663696    1603.403984   \n",
       "min        4.000000   2501.000000    511.000000   -1796.000000   -3161.000000   \n",
       "25%       74.000000   2562.000000    684.000000       0.000000       0.000000   \n",
       "50%      136.000000   2630.000000   5142.000000       0.090000       0.080000   \n",
       "75%      195.000000   2775.000000   5511.000000       8.340000       8.460000   \n",
       "max      276.000000   2961.000000   5911.000000  176405.000000  181137.000000   \n",
       "\n",
       "               Y2016          Y2017          Y2018  \n",
       "count   59408.000000   59437.000000   59507.000000  \n",
       "mean      136.555222     140.917765     143.758381  \n",
       "std      1640.007194    1671.862359    1710.782658  \n",
       "min     -3225.000000   -1582.000000   -3396.000000  \n",
       "25%         0.000000       0.000000       0.000000  \n",
       "50%         0.080000       0.100000       0.070000  \n",
       "75%         8.430000       9.000000       9.000000  \n",
       "max    185960.000000  190873.000000  195875.000000  "
      ]
     },
     "execution_count": 4,
     "metadata": {},
     "output_type": "execute_result"
    }
   ],
   "source": [
    "data.describe()"
   ]
  },
  {
   "cell_type": "code",
   "execution_count": 5,
   "id": "d5307e43-9347-453e-bcdf-8b1e59d1ae6a",
   "metadata": {},
   "outputs": [
    {
     "data": {
      "text/html": [
       "<div>\n",
       "<style scoped>\n",
       "    .dataframe tbody tr th:only-of-type {\n",
       "        vertical-align: middle;\n",
       "    }\n",
       "\n",
       "    .dataframe tbody tr th {\n",
       "        vertical-align: top;\n",
       "    }\n",
       "\n",
       "    .dataframe thead th {\n",
       "        text-align: right;\n",
       "    }\n",
       "</style>\n",
       "<table border=\"1\" class=\"dataframe\">\n",
       "  <thead>\n",
       "    <tr style=\"text-align: right;\">\n",
       "      <th></th>\n",
       "      <th>Area Code</th>\n",
       "      <th>Area</th>\n",
       "      <th>Item Code</th>\n",
       "      <th>Item</th>\n",
       "      <th>Element Code</th>\n",
       "      <th>Element</th>\n",
       "      <th>Unit</th>\n",
       "      <th>Y2014</th>\n",
       "      <th>Y2015</th>\n",
       "      <th>Y2016</th>\n",
       "      <th>Y2017</th>\n",
       "      <th>Y2018</th>\n",
       "    </tr>\n",
       "  </thead>\n",
       "  <tbody>\n",
       "    <tr>\n",
       "      <th>0</th>\n",
       "      <td>4</td>\n",
       "      <td>Algeria</td>\n",
       "      <td>2501</td>\n",
       "      <td>Population</td>\n",
       "      <td>511</td>\n",
       "      <td>Total Population - Both sexes</td>\n",
       "      <td>1000 persons</td>\n",
       "      <td>38924.00</td>\n",
       "      <td>39728.00</td>\n",
       "      <td>40551.00</td>\n",
       "      <td>41389.00</td>\n",
       "      <td>42228.00</td>\n",
       "    </tr>\n",
       "    <tr>\n",
       "      <th>1</th>\n",
       "      <td>4</td>\n",
       "      <td>Algeria</td>\n",
       "      <td>2501</td>\n",
       "      <td>Population</td>\n",
       "      <td>5301</td>\n",
       "      <td>Domestic supply quantity</td>\n",
       "      <td>1000 tonnes</td>\n",
       "      <td>0.00</td>\n",
       "      <td>0.00</td>\n",
       "      <td>0.00</td>\n",
       "      <td>0.00</td>\n",
       "      <td>0.00</td>\n",
       "    </tr>\n",
       "    <tr>\n",
       "      <th>2</th>\n",
       "      <td>4</td>\n",
       "      <td>Algeria</td>\n",
       "      <td>2901</td>\n",
       "      <td>Grand Total</td>\n",
       "      <td>664</td>\n",
       "      <td>Food supply (kcal/capita/day)</td>\n",
       "      <td>kcal/capita/day</td>\n",
       "      <td>3377.00</td>\n",
       "      <td>3379.00</td>\n",
       "      <td>3372.00</td>\n",
       "      <td>3341.00</td>\n",
       "      <td>3322.00</td>\n",
       "    </tr>\n",
       "    <tr>\n",
       "      <th>3</th>\n",
       "      <td>4</td>\n",
       "      <td>Algeria</td>\n",
       "      <td>2901</td>\n",
       "      <td>Grand Total</td>\n",
       "      <td>674</td>\n",
       "      <td>Protein supply quantity (g/capita/day)</td>\n",
       "      <td>g/capita/day</td>\n",
       "      <td>94.90</td>\n",
       "      <td>94.35</td>\n",
       "      <td>94.72</td>\n",
       "      <td>92.82</td>\n",
       "      <td>91.83</td>\n",
       "    </tr>\n",
       "    <tr>\n",
       "      <th>4</th>\n",
       "      <td>4</td>\n",
       "      <td>Algeria</td>\n",
       "      <td>2901</td>\n",
       "      <td>Grand Total</td>\n",
       "      <td>684</td>\n",
       "      <td>Fat supply quantity (g/capita/day)</td>\n",
       "      <td>g/capita/day</td>\n",
       "      <td>80.06</td>\n",
       "      <td>79.36</td>\n",
       "      <td>77.40</td>\n",
       "      <td>80.19</td>\n",
       "      <td>77.28</td>\n",
       "    </tr>\n",
       "  </tbody>\n",
       "</table>\n",
       "</div>"
      ],
      "text/plain": [
       "   Area Code     Area  Item Code         Item  Element Code  \\\n",
       "0          4  Algeria       2501   Population           511   \n",
       "1          4  Algeria       2501   Population          5301   \n",
       "2          4  Algeria       2901  Grand Total           664   \n",
       "3          4  Algeria       2901  Grand Total           674   \n",
       "4          4  Algeria       2901  Grand Total           684   \n",
       "\n",
       "                                  Element             Unit     Y2014  \\\n",
       "0           Total Population - Both sexes     1000 persons  38924.00   \n",
       "1                Domestic supply quantity      1000 tonnes      0.00   \n",
       "2           Food supply (kcal/capita/day)  kcal/capita/day   3377.00   \n",
       "3  Protein supply quantity (g/capita/day)     g/capita/day     94.90   \n",
       "4      Fat supply quantity (g/capita/day)     g/capita/day     80.06   \n",
       "\n",
       "      Y2015     Y2016     Y2017     Y2018  \n",
       "0  39728.00  40551.00  41389.00  42228.00  \n",
       "1      0.00      0.00      0.00      0.00  \n",
       "2   3379.00   3372.00   3341.00   3322.00  \n",
       "3     94.35     94.72     92.82     91.83  \n",
       "4     79.36     77.40     80.19     77.28  "
      ]
     },
     "execution_count": 5,
     "metadata": {},
     "output_type": "execute_result"
    }
   ],
   "source": [
    "data.head()"
   ]
  },
  {
   "cell_type": "code",
   "execution_count": 9,
   "id": "ddf5c2db-289b-4ed3-8498-31541ef15280",
   "metadata": {},
   "outputs": [
    {
     "name": "stdout",
     "output_type": "stream",
     "text": [
      "The area with the highest sum in 2017 is:  Nigeria\n"
     ]
    }
   ],
   "source": [
    "#Question 3\n",
    "# Select columns 'Y2017' and 'Area'\n",
    "data_sub = data[['Y2017', 'Area']]\n",
    "\n",
    "# Perform groupby operation on 'Area' and calculate the sum for 'Y2017'\n",
    "grouped = data_sub.groupby('Area')['Y2017'].sum()\n",
    "\n",
    "# Find the Area with the highest sum in 2017\n",
    "highest_sum_area = grouped.idxmax()\n",
    "\n",
    "# Print the Area with the highest sum in 2017\n",
    "print(\"The area with the highest sum in 2017 is: \", highest_sum_area)"
   ]
  },
  {
   "cell_type": "code",
   "execution_count": 8,
   "id": "23ae2e0d-224b-4b18-a6d6-ff1513534ec1",
   "metadata": {},
   "outputs": [
    {
     "data": {
      "text/plain": [
       "Area\n",
       "Algeria                         325644.27\n",
       "Angola                          229159.57\n",
       "Benin                           124771.22\n",
       "Botswana                         22101.30\n",
       "Burkina Faso                    101855.07\n",
       "Cabo Verde                       14650.74\n",
       "Cameroon                        232030.43\n",
       "Central African Republic         29937.00\n",
       "Chad                             71594.68\n",
       "Comoros                             59.84\n",
       "Congo                            41181.68\n",
       "Côte d'Ivoire                   224599.01\n",
       "Djibouti                         22729.91\n",
       "Egypt                           866379.92\n",
       "Eswatini                         54343.33\n",
       "Ethiopia                        448683.76\n",
       "Ethiopia PDR                         0.00\n",
       "Gabon                            27979.64\n",
       "Gambia                           23154.18\n",
       "Ghana                           337599.06\n",
       "Guinea                           98138.87\n",
       "Guinea-Bissau                    19102.77\n",
       "Kenya                           264660.66\n",
       "Lesotho                          21267.96\n",
       "Liberia                          29342.20\n",
       "Madagascar                      131197.73\n",
       "Malawi                          181098.71\n",
       "Mali                            149928.33\n",
       "Mauritania                      156665.46\n",
       "Mauritius                        51114.83\n",
       "Morocco                         388495.36\n",
       "Mozambique                      161407.98\n",
       "Namibia                          29874.89\n",
       "Niger                           126707.58\n",
       "Nigeria                        1483268.23\n",
       "Rwanda                           73663.69\n",
       "Sao Tome and Principe            12662.63\n",
       "Senegal                          95681.15\n",
       "Seychelles                         442.34\n",
       "Sierra Leone                     55311.33\n",
       "South Africa                    517590.54\n",
       "Sudan                           239931.92\n",
       "Sudan (former)                       0.00\n",
       "Togo                             49841.88\n",
       "Tunisia                         124167.20\n",
       "Uganda                          213950.38\n",
       "United Republic of Tanzania     322616.85\n",
       "Zambia                          103223.77\n",
       "Zimbabwe                         75919.34\n",
       "Name: Y2017, dtype: float64"
      ]
     },
     "execution_count": 8,
     "metadata": {},
     "output_type": "execute_result"
    }
   ],
   "source": [
    "grouped"
   ]
  },
  {
   "cell_type": "code",
   "execution_count": 15,
   "id": "be2cb8bc-03e3-4f1d-b901-2e9a47bcb07f",
   "metadata": {},
   "outputs": [
    {
     "name": "stdout",
     "output_type": "stream",
     "text": [
      "The total sum of Wine produced in 2015:  4251.81\n",
      "The total sum of Wine produced in 2018:  4039.32\n"
     ]
    }
   ],
   "source": [
    "#Question 4\n",
    "# Dataframe for Wine Year 2015 and 2018\n",
    "wine_data = data[data['Item'] == 'Wine'][['Y2015', 'Y2018']]\n",
    "\n",
    "#The sum of Wine produced in 2015 and 2018\n",
    "total_15 = wine_data['Y2015'].sum()\n",
    "total_18 = wine_data['Y2018'].sum()\n",
    "\n",
    "#The total sum of Wine produced in 2015 and 2018\n",
    "print(\"The total sum of Wine produced in 2015:  {:.2f}\".format(total_15))\n",
    "print(\"The total sum of Wine produced in 2018:  {:.2f}\".format(total_18))"
   ]
  },
  {
   "cell_type": "code",
   "execution_count": 11,
   "id": "31cf44af-2246-4d05-b584-4b31982c5bb6",
   "metadata": {},
   "outputs": [
    {
     "name": "stdout",
     "output_type": "stream",
     "text": [
      "The total number of missing data in 2014: 1589\n",
      "The percentage of missing data in 2014: 2.607%\n"
     ]
    }
   ],
   "source": [
    "#Question 5\n",
    "#Total number and Percentage of Missing Data in 2014, 3dp\n",
    "count_of_missing = data['Y2014'].isna().sum()\n",
    "total_count = len(data['Y2014'])\n",
    "missing_percentage = (count_of_missing / total_count) * 100\n",
    "print(\"The total number of missing data in 2014:\", count_of_missing)\n",
    "print(\"The percentage of missing data in 2014: {:.3f}%\".format(missing_percentage))"
   ]
  },
  {
   "cell_type": "code",
   "execution_count": 12,
   "id": "0fdd9e55-1262-4846-b262-77619aa573e7",
   "metadata": {},
   "outputs": [
    {
     "data": {
      "text/plain": [
       "'e'"
      ]
     },
     "execution_count": 12,
     "metadata": {},
     "output_type": "execute_result"
    }
   ],
   "source": [
    "#Question 8\n",
    "S = [['him', 'sell'], [90, 28, 43]]\n",
    "S[0][1][1]"
   ]
  },
  {
   "cell_type": "code",
   "execution_count": 14,
   "id": "fe139f09-a7de-46db-a510-960a35175b84",
   "metadata": {},
   "outputs": [
    {
     "name": "stdout",
     "output_type": "stream",
     "text": [
      "The mean for the year 2017: 140.92\n",
      "The standard Deviation for the year 2017: 1671.86\n"
     ]
    }
   ],
   "source": [
    "#Question 9\n",
    "#Mean and Standard Deviation\n",
    "data_2017 = data[['Y2017']]\n",
    "mean_2017 = data_2017.mean().values[0]\n",
    "standard_dev_2017 = data_2017.std().values[0]\n",
    "print(\"The mean for the year 2017: {:.2f}\".format(mean_2017))\n",
    "print(\"The standard Deviation for the year 2017: {:.2f}\".format(standard_dev_2017))"
   ]
  },
  {
   "cell_type": "code",
   "execution_count": 16,
   "id": "e0627cc8-fcd0-47a3-8f9c-2760fef84894",
   "metadata": {},
   "outputs": [
    {
     "name": "stdout",
     "output_type": "stream",
     "text": [
      "The total number of unique countries: 49\n"
     ]
    }
   ],
   "source": [
    "#Question 10\n",
    "#Number of Unique Countries in the dataset\n",
    "no_unique_countries = data['Area'].nunique()\n",
    "\n",
    "# Print the total number of unique countries\n",
    "print(\"The total number of unique countries:\", no_unique_countries)"
   ]
  },
  {
   "cell_type": "code",
   "execution_count": 26,
   "id": "7c94b7c7-eba0-4b4f-a29a-e7c730cedc61",
   "metadata": {},
   "outputs": [
    {
     "name": "stdout",
     "output_type": "stream",
     "text": [
      "                 Area Code                                               Area  \\\n",
      "Element                                                                         \n",
      "Stock Variation     571566  AlgeriaAlgeriaAlgeriaAlgeriaAlgeriaAlgeriaAlge...   \n",
      "\n",
      "                 Item Code                                               Item  \\\n",
      "Element                                                                         \n",
      "Stock Variation   11329527  Cereals - Excluding BeerWheat and productsRice...   \n",
      "\n",
      "                 Element Code  \\\n",
      "Element                         \n",
      "Stock Variation      21464704   \n",
      "\n",
      "                                                              Unit     Y2014  \\\n",
      "Element                                                                        \n",
      "Stock Variation  1000 tonnes1000 tonnes1000 tonnes1000 tonnes10...  58749.83   \n",
      "\n",
      "                    Y2015     Y2016     Y2017     Y2018  \n",
      "Element                                                  \n",
      "Stock Variation  34910.99  33140.12  54316.91  20577.91  \n"
     ]
    }
   ],
   "source": [
    "#Question 13\n",
    "#Highest Sum of Stock Variation\n",
    "sum_high = data[data['Element'] == 'Stock Variation'].groupby('Element').sum()\n",
    "print(sum_high)"
   ]
  },
  {
   "cell_type": "code",
   "execution_count": 28,
   "id": "92472a52-baee-4ccc-bafe-edda1afab84f",
   "metadata": {},
   "outputs": [
    {
     "data": {
      "text/plain": [
       "173.05"
      ]
     },
     "execution_count": 28,
     "metadata": {},
     "output_type": "execute_result"
    }
   ],
   "source": [
    "#Question 15: Total protein supply in Madagascar\n",
    "total_quant = data[(data['Element'] == 'Protein supply quantity (g/capita/day)') & (data['Area'] == 'Madagascar')]['Y2015'].sum()\n",
    "round(total_quant,2)"
   ]
  },
  {
   "cell_type": "code",
   "execution_count": 29,
   "id": "e53affc0-e5d7-4fc7-9e57-b884c2f9f131",
   "metadata": {},
   "outputs": [
    {
     "ename": "TypeError",
     "evalue": "'tuple' object does not support item assignment",
     "output_type": "error",
     "traceback": [
      "\u001b[1;31m---------------------------------------------------------------------------\u001b[0m",
      "\u001b[1;31mTypeError\u001b[0m                                 Traceback (most recent call last)",
      "Cell \u001b[1;32mIn[29], line 4\u001b[0m\n\u001b[0;32m      1\u001b[0m \u001b[38;5;66;03m#Question 16: Type Error\u001b[39;00m\n\u001b[0;32m      2\u001b[0m my_tuppy \u001b[38;5;241m=\u001b[39m (\u001b[38;5;241m1\u001b[39m,\u001b[38;5;241m2\u001b[39m,\u001b[38;5;241m5\u001b[39m,\u001b[38;5;241m8\u001b[39m)\n\u001b[1;32m----> 4\u001b[0m my_tuppy[\u001b[38;5;241m2\u001b[39m] \u001b[38;5;241m=\u001b[39m \u001b[38;5;241m6\u001b[39m\n",
      "\u001b[1;31mTypeError\u001b[0m: 'tuple' object does not support item assignment"
     ]
    }
   ],
   "source": [
    "#Question 16: Type Error\n",
    "my_tuppy = (1,2,5,8)\n",
    "\n",
    "my_tuppy[2] = 6"
   ]
  },
  {
   "cell_type": "code",
   "execution_count": 30,
   "id": "66a714a1-d147-4406-8440-8c4daaab0524",
   "metadata": {},
   "outputs": [
    {
     "name": "stdout",
     "output_type": "stream",
     "text": [
      "The area with the 7th lowest sum in 2017 is: Guinea-Bissau\n"
     ]
    }
   ],
   "source": [
    "#Question 17 \n",
    "data_sub = data[['Y2017', 'Area']]\n",
    "grouped = data_sub.groupby('Area')['Y2017'].sum()\n",
    "\n",
    "# Sort the sums in ascending order\n",
    "sorted_sum = grouped.sort_values(ascending=True)\n",
    "\n",
    "# Area with the 7th lowest sum in 2017\n",
    "seventh_lowest_area = sorted_sum.index[6]\n",
    "\n",
    "# Print the Area with the 7th lowest sum in 2017\n",
    "print(\"The area with the 7th lowest sum in 2017 is:\", seventh_lowest_area)"
   ]
  },
  {
   "cell_type": "code",
   "execution_count": 34,
   "id": "a70756a7-3fa6-41db-9b1d-14698a7370c2",
   "metadata": {},
   "outputs": [
    {
     "name": "stdout",
     "output_type": "stream",
     "text": [
      "   Age Nationality  Overall\n",
      "1   35    Portugal       94\n",
      "2   33   Argentina       93\n",
      "3   30      Brazil       92\n"
     ]
    }
   ],
   "source": [
    "#Question 19\n",
    "lst = [[35, 'Portugal', 94], [33, 'Argentina', 93], [30, 'Brazil', 92]]\n",
    "col = ['Age', 'Nationality', 'Overall']\n",
    "\n",
    "# DataFrame\n",
    "data_f = pd.DataFrame(lst, columns=col,index=[1,2,3])\n",
    "\n",
    "# Print the DataFrame\n",
    "print(data_f)"
   ]
  },
  {
   "cell_type": "code",
   "execution_count": 35,
   "id": "0f295a76-d935-490e-805b-07f5668cb7f2",
   "metadata": {},
   "outputs": [
    {
     "name": "stdout",
     "output_type": "stream",
     "text": [
      "8\n"
     ]
    }
   ],
   "source": [
    "#Question 20\n",
    "y = [(2, 4), (7, 8), (1, 5, 9)]\n",
    "\n",
    "# To assign element 8 to variable x\n",
    "x = y[1][1]\n",
    "\n",
    "# Print the value of x\n",
    "print(x)"
   ]
  }
 ],
 "metadata": {
  "kernelspec": {
   "display_name": "Python 3 (ipykernel)",
   "language": "python",
   "name": "python3"
  },
  "language_info": {
   "codemirror_mode": {
    "name": "ipython",
    "version": 3
   },
   "file_extension": ".py",
   "mimetype": "text/x-python",
   "name": "python",
   "nbconvert_exporter": "python",
   "pygments_lexer": "ipython3",
   "version": "3.10.13"
  }
 },
 "nbformat": 4,
 "nbformat_minor": 5
}
